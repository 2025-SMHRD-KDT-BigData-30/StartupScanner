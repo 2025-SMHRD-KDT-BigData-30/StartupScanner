{
    "cells": [
        {
            "cell_type": "code",
            "execution_count": 1,
            "metadata": {},
            "outputs": [],
            "source": [
                "import json\n",
                "import time\n",
                "import requests\n",
                "import pandas as pd\n",
                "from bs4 import BeautifulSoup as bs\n",
                "from selenium import webdriver as wb\n",
                "from selenium.webdriver.common.by import By\n",
                "from selenium.webdriver.common.keys import Keys \n",
                "from selenium.webdriver.chrome.service import Service\n",
                "from webdriver_manager.chrome import ChromeDriverManager"
            ]
        },
        {
            "cell_type": "code",
            "execution_count": null,
            "metadata": {},
            "outputs": [],
            "source": [
                "dong = ['상무1동', '상무2동', '금호1동', '금호2동', '화정1동', '화정2동', '화정3동', '화정4동', '양동', '양3동', '농성1동', '농성2동', '광천동', '유덕동', '치평동', '서창동', '동천동', '풍암동']\n",
                "\n",
                "dong1 = ['상무1동', '상무2동', '금호1동', '금호2동'] # 남규형\n",
                "dong2 = ['화정1동', '화정2동', '화정3동', '화정4동'] # 진우형\n",
                "dong3 = ['양동', '양3동', '농성1동', '농성2동'] # 승현이\n",
                "dong4 = ['광천동', '유덕동', '치평동', '서창동', '동천동', '풍암동']\n",
                "\n",
                "bigcode = [\"G2\", \"I2\", \"S2\", \"R1\", \"P1\", \"L1\", \"I1\", \"M1\", \"Q1\", \"N1\"]"
            ]
        },
        {
            "cell_type": "code",
            "execution_count": null,
            "metadata": {},
            "outputs": [],
            "source": [
                "columns_ = ['구', '업종이름', '검색업종', '23.12', '24.01', '24.02', '24.03', '24.04', \n",
                "           '24.05', '24.06', '24.07', '24.08', '24.09', '24.10', '24.11', '24.12']\n",
                "delivery_sales_df  = pd.DataFrame(columns=columns_)"
            ]
        },
        {
            "cell_type": "code",
            "execution_count": 2,
            "metadata": {},
            "outputs": [],
            "source": [
                "s = Service(ChromeDriverManager().install())\n",
                "driver = wb.Chrome(service=s)\n",
                "driver.maximize_window()\n",
                "driver.get('https://bigdata.sbiz.or.kr/gis/?type=detail&rptpType=gisDetail&lat=35.1287735&lng=126.8532396')"
            ]
        },
        {
            "cell_type": "code",
            "execution_count": null,
            "metadata": {},
            "outputs": [],
            "source": [
                "error_cate = []\n",
                "old_dong = ''"
            ]
        },
        {
            "cell_type": "code",
            "execution_count": null,
            "metadata": {},
            "outputs": [],
            "source": [
                "#################################### 반복할 동 선택\n",
                "seogu = dong3[:]                   # 만약 두번째 동을 시작해야 할 경우 dong[1:] 와 같이 인덱스 입력\n",
                "####################################\n",
                "turn = 0                           # 중간에 에러가 났을 경우\n",
                "#################################### 프린트 되어있는 진행횟수에 적혀있는 숫자 입력"
            ]
        },
        {
            "cell_type": "code",
            "execution_count": null,
            "metadata": {},
            "outputs": [],
            "source": [
                "lst = [\n",
                "    \"김밥/만두/분식\",\n",
                "    \"버거\",\n",
                "    \"빵/도넛\",\n",
                "    \"치킨\",\n",
                "    \"토스트/샌드위치/샐러드\",\n",
                "    \"카페\",\n",
                "    \"마라탕/훠궈\",\n",
                "    \"중국집\",\n",
                "    \"국/탕/찌개류\",\n",
                "    \"국수/칼국수\",\n",
                "    \"백반/한정식\",\n",
                "    \"전/부침개\",\n",
                "    \"해산물 구이/찜\",\n",
                "    \"피자\",\n",
                "    \"기타 동남아식 전문\",\n",
                "    \"베트남식 전문\",\n",
                "    \"기타 일식 음식점\",\n",
                "    \"일식 카레/돈가스/덮밥\",\n",
                "    \"일식 회/초밥\",\n",
                "    \"곱창 전골/구이\",\n",
                "    \"닭/오리고기 구이/찜\",\n",
                "    \"돼지고기 구이/찜\",\n",
                "    \"소고기 구이/찜\",\n",
                "    \"경양식\",\n",
                "    \"파스타/스테이크\",\n",
                "    \"패밀리레스토랑\"\n",
                "]"
            ]
        },
        {
            "cell_type": "code",
            "execution_count": null,
            "metadata": {},
            "outputs": [],
            "source": [
                "try:\n",
                "    for dong in seogu: #### 구 반복 ####\n",
                "        flag = True\n",
                "        \n",
                "        if old_dong != dong: # 동이 바뀌었을 경우\n",
                "            turn = 0 # 진행도 초기화\n",
                "\n",
                "        while flag:\n",
                "            time.sleep(1)\n",
                "            search_box = driver.find_element(By.ID, \"searchAddress\")  # 검색창\n",
                "\n",
                "            time.sleep(1)\n",
                "            search_box.send_keys(Keys.CONTROL + \"a\")  # 동 입력창 초기화\n",
                "            time.sleep(1)\n",
                "            search_box.send_keys(Keys.DELETE)\n",
                "            time.sleep(1)\n",
                "\n",
                "            search_box.send_keys(f\"광주 서구 {dong}\")  # 입력창에 원하는 동 입력\n",
                "            search_box.send_keys(Keys.RETURN)\n",
                "            time.sleep(1)\n",
                "\n",
                "            button = driver.find_element(By.CSS_SELECTOR, \"ul#admListAddress>li>button\") # 검색\n",
                "            \n",
                "            if button.text == f\"광주 서구 {dong}\":\n",
                "                flag = False                              # while 나가기 -> 동 검색 끝\n",
                "                button.click()\n",
                "            else:\n",
                "                print(\"동 찾기 에러\")\n",
                "                time.sleep(3)\n",
                "\n",
                "        for i in range(turn, len(lst)):           #### 세부업종 구간 ####\n",
                "            time.sleep(1)\n",
                "            Upjong = driver.find_element(By.ID, \"selectedUpjong\") # 업종 입력창\n",
                "\n",
                "            Upjong.send_keys(Keys.CONTROL + \"a\")  # 업종 입력창 초기화\n",
                "            Upjong.send_keys(Keys.DELETE)\n",
                "            time.sleep(1)\n",
                "\n",
                "            up_name = lst\n",
                "\n",
                "            Upjong.send_keys(\"> \" + up_name)  # 입력창에 업종 검색\n",
                "            Upjong.send_keys(Keys.RETURN)\n",
                "            time.sleep(1)\n",
                "\n",
                "            search = driver.find_elements(By.CSS_SELECTOR, \"ul#tpbizSearchListUl>li>button\")# 연관 검색 클릭\n",
                "            for j in range(len(search)):\n",
                "                if search[j].text.find(up_name) != -1:\n",
                "                    button = search[j]\n",
                "                    break\n",
                "            button.click()\n",
                "            time.sleep(1)\n",
                "\n",
                "            button = driver.find_element(By.ID, \"analysisBtn\")  # 분석하기 버튼 클릭\n",
                "            button.click()\n",
                "            time.sleep(8)\n",
                "\n",
                "            td_name= driver.find_elements(By.CSS_SELECTOR,'div.boxArea>div.summary>dl') # 상세 페이지에 있는 업종 명 가져오기\n",
                "            for k in range(len(td_name)):                                               #    (제대로 가져왔는지 확인을 위해)\n",
                "                if td_name[k].text.find(up_name) != -1:\n",
                "                    td_name = td_name[k].text\n",
                "\n",
                "            # 배달 매출 데이터 가져오기\n",
                "            try :                                                            # 배달 매출 txt 바로 리스트로 바꿔 넣기\n",
                "                delivery_sales_data = driver.find_element(By.CSS_SELECTOR, \"tr#genderAllSum\").text.split(\" \")[2:]\n",
                "                delivery_sales_df.loc[i] = [dong, up_name, td_name] + delivery_sales_data # 최종 데이터 DF에 추가\n",
                "            except:\n",
                "                pass # 배달 매출 정보가 없을 경우 배달을 하지 않는 업종이므로 pass\n",
                "\n",
                "            # 상세 분석 나가기\n",
                "            try:\n",
                "                close = driver.find_element(By.CSS_SELECTOR, \"section#reportDiv>div.reportInner>button.close\")\n",
                "                close.click()\n",
                "            except:\n",
                "                time.sleep(3)\n",
                "                close = driver.find_element(By.CSS_SELECTOR, \"section#reportDiv>div.reportInner>button.close\")\n",
                "                close.click()\n",
                "                \n",
                "            turn = i # 진행도 저장\n",
                "            old_dong = dong # 진행하고 있는 동 저장\n",
                "            print(f\"{dong}, 진행 횟수: {turn + 1}, 남은 횟수: {len(27)-(turn+1)}\")\n",
                "\n",
                "        ## 저장 후 DF초기화\n",
                "        delivery_sales_df.to_csv(f\"./data/02_배달/{dong}_배달_매출2.csv\", encoding='utf-8-sig', index=False)\n",
                "        delivery_sales_df = pd.DataFrame(columns=columns_)\n",
                "        \n",
                "except Exception as e:\n",
                "    print(\"에러 발생:\", e)"
            ]
        },
        {
            "cell_type": "code",
            "execution_count": null,
            "metadata": {},
            "outputs": [],
            "source": [
                "# 남성 데이터\n",
                "# g.highcharts-series.highcharts-series-0.highcharts-column-series.highcharts-tracker>rect\n",
                "# 반복해서\n",
                "# aria-label=\"1. 24년01월, 53. 남성.\n",
                "# 가져오기\n",
                "\n",
                "\n",
                "# 여성 데이터\n",
                "# g.highcharts-series.highcharts-series-1.highcharts-column-series.highcharts-tracker>rect\n",
                "# 반복해서\n",
                "# aria-label=\"1. 24년01월, 100. 여성.\"\n",
                "# 가져오기"
            ]
        },
        {
            "cell_type": "code",
            "execution_count": null,
            "metadata": {},
            "outputs": [
                {
                    "data": {
                        "text/plain": [
                            "<selenium.webdriver.remote.webelement.WebElement (session=\"1b7dd725016727792bb53af90045189b\", element=\"f.8262312B683EB886B2F8076A3A048156.d.B9890C827ABC80B7A485695868B23362.e.204\")>"
                        ]
                    },
                    "execution_count": 3,
                    "metadata": {},
                    "output_type": "execute_result"
                }
            ],
            "source": [
                "test = driver.find_element(By.CSS_SELECTOR, \"g.highcharts-series.highcharts-series-0.highcharts-column-series.highcharts-tracker>rect\")\n",
                "test"
            ]
        }
    ],
    "metadata": {
        "kernelspec": {
            "display_name": "base",
            "language": "python",
            "name": "python3"
        },
        "language_info": {
            "codemirror_mode": {
                "name": "ipython",
                "version": 3
            },
            "file_extension": ".py",
            "mimetype": "text/x-python",
            "name": "python",
            "nbconvert_exporter": "python",
            "pygments_lexer": "ipython3",
            "version": "3.12.7"
        }
    },
    "nbformat": 4,
    "nbformat_minor": 4
}

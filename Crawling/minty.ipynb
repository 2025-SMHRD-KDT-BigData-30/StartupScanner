{
 "cells": [
  {
   "cell_type": "code",
   "execution_count": null,
   "id": "990e6350",
   "metadata": {},
   "outputs": [],
   "source": [
    "import json\n",
    "import time\n",
    "import requests\n",
    "import pandas as pd\n",
    "from bs4 import BeautifulSoup as bs\n",
    "from selenium import webdriver as wb\n",
    "from selenium.webdriver.common.by import By\n",
    "from selenium.webdriver.common.keys import Keys \n",
    "from selenium.webdriver.chrome.service import Service\n",
    "from webdriver_manager.chrome import ChromeDriverManager"
   ]
  },
  {
   "cell_type": "code",
   "execution_count": null,
   "id": "55f2c609",
   "metadata": {},
   "outputs": [],
   "source": [
    "columns = ['제조사', '시리즈', '모델', '용량']\n",
    "phone_df  = pd.DataFrame(columns=columns)"
   ]
  },
  {
   "cell_type": "code",
   "execution_count": null,
   "id": "b7311b5f",
   "metadata": {},
   "outputs": [],
   "source": [
    "s = Service(ChromeDriverManager().install())\n",
    "driver = wb.Chrome(service=s)\n",
    "driver.maximize_window()\n",
    "driver.get('https://www.mintit.co.kr/price/check')"
   ]
  },
  {
   "cell_type": "code",
   "execution_count": null,
   "id": "fcb7acc8",
   "metadata": {},
   "outputs": [],
   "source": [
    "lst = []\n",
    "c1, c2, c3 = 0, 0, 0\n",
    "n1, n2, n3 = 0, 0, 0\n",
    "\n",
    "a = driver.find_element(By.CSS_SELECTOR, \"a.btnm2\")\n",
    "\n",
    "B = driver.find_elements(By.CSS_SELECTOR, \"ul.price-check-list>li.price-check-list-item\")\n",
    "for i in range(len(B)):\n",
    "    B = driver.find_elements(By.CSS_SELECTOR, \"ul.price-check-list>li.price-check-list-item\")\n",
    "    n1 = B[i].text\n",
    "    B[i].click()\n",
    "    time.sleep(0.5)\n",
    "\n",
    "    S = driver.find_elements(By.CSS_SELECTOR, \"ul.price-check-list>li.price-check-list-item\")\n",
    "    for j in range(len(S)):\n",
    "        S = driver.find_elements(By.CSS_SELECTOR, \"ul.price-check-list>li.price-check-list-item\")\n",
    "        n2 = S[j].text\n",
    "        S[j].click()\n",
    "        time.sleep(0.5)\n",
    "\n",
    "        M = driver.find_elements(By.CSS_SELECTOR, \"ul.price-check-list>li.price-check-list-item\")\n",
    "        for k in range(len(M)):\n",
    "            M = driver.find_elements(By.CSS_SELECTOR, \"ul.price-check-list>li.price-check-list-item\")\n",
    "            n3 = M[k].text\n",
    "            M[k].click()\n",
    "            time.sleep(0.5)\n",
    "\n",
    "            U = driver.find_elements(By.CSS_SELECTOR, \"ul.price-check-list>li.price-check-list-item\")\n",
    "            for u in range(len(U)):\n",
    "                U = driver.find_elements(By.CSS_SELECTOR, \"ul.price-check-list>li.price-check-list-item\")\n",
    "                n4 = U[u].text\n",
    "                lst.append((n1, n2, n3, n4))\n",
    "\n",
    "            # M의 마지막 항목이 아니면 뒤로 가기\n",
    "            if k != len(M) - 1:\n",
    "                L = driver.find_elements(By.CSS_SELECTOR, \"div.price-check-time-line-item.active\")\n",
    "                if len(L) >= 3:\n",
    "                    L[2].click()\n",
    "                    time.sleep(0.5)\n"
   ]
  },
  {
   "cell_type": "code",
   "execution_count": 153,
   "id": "5a6adbe1",
   "metadata": {},
   "outputs": [
    {
     "data": {
      "text/plain": [
       "[('삼성전자', '갤럭시 S', '갤럭시 S24 울트라', '256G'),\n",
       " ('삼성전자', '갤럭시 S', '갤럭시 S24 울트라', '512G'),\n",
       " ('삼성전자', '갤럭시 S', '갤럭시 S24 울트라', '1T'),\n",
       " ('삼성전자', '갤럭시 S', '갤럭시 S24 플러스', '256G'),\n",
       " ('삼성전자', '갤럭시 S', '갤럭시 S24 플러스', '512G'),\n",
       " ('삼성전자', '갤럭시 S', '갤럭시 S24', '256G'),\n",
       " ('삼성전자', '갤럭시 S', '갤럭시 S24', '512G'),\n",
       " ('삼성전자', '갤럭시 S', '갤럭시 S23 FE', '256G'),\n",
       " ('삼성전자', '갤럭시 S', '갤럭시 S23', '256G'),\n",
       " ('삼성전자', '갤럭시 S', '갤럭시 S23', '512G'),\n",
       " ('삼성전자', '갤럭시 S', '갤럭시 S23 울트라', '256G'),\n",
       " ('삼성전자', '갤럭시 S', '갤럭시 S23 울트라', '512G'),\n",
       " ('삼성전자', '갤럭시 S', '갤럭시 S23 울트라', '1T'),\n",
       " ('삼성전자', '갤럭시 S', '갤럭시 S23+', '256G'),\n",
       " ('삼성전자', '갤럭시 S', '갤럭시 S23+', '512G'),\n",
       " ('삼성전자', '갤럭시 S', '갤럭시 S22 울트라', '1T'),\n",
       " ('삼성전자', '갤럭시 S', '갤럭시 S22 울트라', '256G'),\n",
       " ('삼성전자', '갤럭시 S', '갤럭시 S22 울트라', '512G'),\n",
       " ('삼성전자', '갤럭시 S', '갤럭시 S21+', '기본'),\n",
       " ('삼성전자', '갤럭시 S', '갤럭시 S22+', '기본'),\n",
       " ('삼성전자', '갤럭시 S', '갤럭시 S22', '기본'),\n",
       " ('삼성전자', '갤럭시 S', '갤럭시 S21', '기본'),\n",
       " ('삼성전자', '갤럭시 S', '갤럭시 S21 울트라', '256G'),\n",
       " ('삼성전자', '갤럭시 S', '갤럭시 S21 울트라', '512G'),\n",
       " ('삼성전자', '갤럭시 S', '갤럭시 S20 FE', '기본'),\n",
       " ('삼성전자', '갤럭시 S', '갤럭시 S20', '기본'),\n",
       " ('삼성전자', '갤럭시 S', '갤럭시 S20', '기본'),\n",
       " ('삼성전자', '갤럭시 S', '갤럭시 S20+', '기본'),\n",
       " ('삼성전자', '갤럭시 S', '갤럭시 S10+', '128G'),\n",
       " ('삼성전자', '갤럭시 S', '갤럭시 S10+', '512G'),\n",
       " ('삼성전자', '갤럭시 S', '갤럭시 S10+', '1T'),\n",
       " ('삼성전자', '갤럭시 S', '갤럭시 S10e', '128G'),\n",
       " ('삼성전자', '갤럭시 S', '갤럭시 S10e', '256G'),\n",
       " ('삼성전자', '갤럭시 S', '갤럭시 S10', '128G'),\n",
       " ('삼성전자', '갤럭시 S', '갤럭시 S10', '512G'),\n",
       " ('삼성전자', '갤럭시 S', '갤럭시 S10 5G', '256G'),\n",
       " ('삼성전자', '갤럭시 S', '갤럭시 S10 5G', '512G'),\n",
       " ('삼성전자', '갤럭시 S', '갤럭시 S9', '기본'),\n",
       " ('삼성전자', '갤럭시 S', '갤럭시 S9+', '64G'),\n",
       " ('삼성전자', '갤럭시 S', '갤럭시 S9+', '256G'),\n",
       " ('삼성전자', '갤럭시 S', '갤럭시 S8', '기본'),\n",
       " ('삼성전자', '갤럭시 S', '갤럭시 S8+', '64G'),\n",
       " ('삼성전자', '갤럭시 S', '갤럭시 S8+', '128G'),\n",
       " ('삼성전자', '갤럭시 S', '갤럭시 S7 엣지', '기본'),\n",
       " ('삼성전자', '갤럭시 S', '갤럭시 S7', '기본'),\n",
       " ('삼성전자', '갤럭시 S', '갤럭시 S6 엣지+', '기본'),\n",
       " ('삼성전자', '갤럭시 S', '갤럭시 S6', '기본'),\n",
       " ('삼성전자', '갤럭시 S', '갤럭시 S6 엣지', '기본'),\n",
       " ('삼성전자', '갤럭시 S', '갤럭시 S5 프라임', '기본'),\n",
       " ('삼성전자', '갤럭시 S', '갤럭시 S5 LTE-A', '기본'),\n",
       " ('삼성전자', '갤럭시 S', '갤럭시 S4 LTE-A', '기본'),\n",
       " ('삼성전자', '갤럭시 S', '갤럭시 S4 액티브', '기본'),\n",
       " ('삼성전자', '갤럭시 S', '갤럭시 S4 미니', '기본'),\n",
       " ('삼성전자', '갤럭시 S', '갤럭시 S4', '기본'),\n",
       " ('삼성전자', '갤럭시 S', '갤럭시 S3 LTE', '기본'),\n",
       " ('삼성전자', '갤럭시 S', '갤럭시 S3 3G', '기본'),\n",
       " ('삼성전자', '갤럭시 S', '갤럭시 S2 HD', '기본'),\n",
       " ('삼성전자', '갤럭시 S', '갤럭시 S2 LTE', '기본'),\n",
       " ('삼성전자', '갤럭시 S', '갤럭시 S2', '기본'),\n",
       " ('삼성전자', '갤럭시 S', '갤럭시S', '기본')]"
      ]
     },
     "execution_count": 153,
     "metadata": {},
     "output_type": "execute_result"
    }
   ],
   "source": [
    "lst"
   ]
  },
  {
   "cell_type": "code",
   "execution_count": null,
   "id": "b9b5faf1",
   "metadata": {},
   "outputs": [],
   "source": []
  }
 ],
 "metadata": {
  "kernelspec": {
   "display_name": "base",
   "language": "python",
   "name": "python3"
  },
  "language_info": {
   "codemirror_mode": {
    "name": "ipython",
    "version": 3
   },
   "file_extension": ".py",
   "mimetype": "text/x-python",
   "name": "python",
   "nbconvert_exporter": "python",
   "pygments_lexer": "ipython3",
   "version": "3.12.7"
  }
 },
 "nbformat": 4,
 "nbformat_minor": 5
}

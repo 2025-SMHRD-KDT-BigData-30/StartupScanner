{
    "cells": [
        {
            "cell_type": "code",
            "execution_count": 142,
            "metadata": {},
            "outputs": [],
            "source": [
                "import time\n",
                "import pandas as pd\n",
                "from bs4 import BeautifulSoup as bs\n",
                "from selenium import webdriver as wb\n",
                "from IPython.display import display, HTML\n",
                "from selenium.webdriver.common.by import By\n",
                "from selenium.webdriver.common.keys import Keys \n",
                "from selenium.webdriver.chrome.service import Service\n",
                "from webdriver_manager.chrome import ChromeDriverManager"
            ]
        },
        {
            "cell_type": "code",
            "execution_count": 148,
            "metadata": {},
            "outputs": [],
            "source": [
                "s = Service(ChromeDriverManager().install())\n",
                "driver = wb.Chrome(service=s)\n",
                "driver.get('https://new.land.naver.com/offices?ms=35.164324,126.88035,16&a=SG:SMS:GJCG:APTHGJ:GM:TJ&b=B2&e=RETAIL')\n",
                "\n",
                "body = driver.find_element(By.CSS_SELECTOR, 'div.item_list')"
            ]
        },
        {
            "cell_type": "code",
            "execution_count": null,
            "metadata": {},
            "outputs": [
                {
                    "name": "stdout",
                    "output_type": "stream",
                    "text": [
                        "422.059 927.062\n",
                        "화면 크기 : x : 1920, y : 729\n",
                        "타깃 좌표 : x : 422.059, y : 927.062\n",
                        "52 N 306845.478372549 3893213.03772549\n"
                    ]
                }
            ],
            "source": [
                "time.sleep(1)\n",
                "# 새로고침 해야 함\n",
                "\n",
                "# 지도 크기\n",
                "aa = driver.find_element(By.CSS_SELECTOR, \"div#map.map_panel\")\n",
                "center_x = aa.size['width'] / 2\n",
                "center_y = aa.size['height'] / 2\n",
                "\n",
                "# 원하는 좌표 (픽셀)\n",
                "soup = bs(driver.page_source, 'lxml')\n",
                "a = driver.find_elements(By.CSS_SELECTOR, \"a.map_cluster--mix:not(.is-outside)\")\n",
                "target_x = float(a[0].get_attribute(\"style\").split(\" \")[-3].replace(\"px;\", \"\"))\n",
                "target_y = float(a[0].get_attribute(\"style\").split(\" \")[-1].replace(\"px;\", \"\"))\n",
                "print(target_x, target_y)\n",
                "# a[0].click()\n",
                "# 픽셀 차이 계산\n",
                "delta_x = target_x - center_x\n",
                "delta_y = target_y - center_y\n",
                "\n",
                "# 실제 거리 계산\n",
                "distance_x = delta_x * (100 / 45)\n",
                "distance_y = delta_y * (100 / 45)\n",
                "\n",
                "# 결과 출력\n",
                "print(\"화면 크기 : x : {1}, y : {0}\".format(aa.size['height'], aa.size['width']))\n",
                "print(\"타깃 좌표 : x : {1}, y : {0}\".format(target_y, target_x))\n",
                "print(\"52 N {} {}\".format(306950.957 + distance_x, 3893323.344 - distance_y))"
            ]
        },
        {
            "cell_type": "code",
            "execution_count": 117,
            "metadata": {},
            "outputs": [],
            "source": [
                "# last_height = driver.execute_script(\"return document.body.scrollHeight\")\n",
                "# while True:\n",
                "#     body.send_keys(Keys.END)\n",
                "\n",
                "#     time.sleep(1)\n",
                "\n",
                "#     new_height = driver.execute_script(\"return document.body.scrollHeight\")\n",
                "#     if new_height == last_height:\n",
                "#         break\n",
                "#     last_height = new_height"
            ]
        },
        {
            "cell_type": "code",
            "execution_count": 118,
            "metadata": {},
            "outputs": [],
            "source": [
                "# soup = bs(driver.page_source, 'lxml')\n",
                "# a = driver.find_elements(By.CSS_SELECTOR, \"a.map_cluster--mix:not(.is-outside)\")\n",
                "# for i in range(len(a)):\n",
                "#     try:\n",
                "#         a[i].click()\n",
                "#         print(a[i])\n",
                "#     except:\n",
                "#         display(HTML(\"<span style='color: red;'>ERRORERRORERRORERRORERRORERRORERROR</span>\"))"
            ]
        },
        {
            "cell_type": "code",
            "execution_count": 133,
            "metadata": {},
            "outputs": [
                {
                    "name": "stdout",
                    "output_type": "stream",
                    "text": [
                        "{'height': 1061, 'width': 1827}\n"
                    ]
                }
            ],
            "source": [
                "# a[0].click()\n",
                "aa = driver.find_element(By.CSS_SELECTOR, \"div#map.map_panel\")\n",
                "print(aa.size)\n",
                "my_x = aa.size['width']/2\n",
                "my_y = aa.size['height']/2"
            ]
        },
        {
            "cell_type": "code",
            "execution_count": 141,
            "metadata": {},
            "outputs": [
                {
                    "name": "stdout",
                    "output_type": "stream",
                    "text": [
                        "307116.047\n",
                        "3892884.694\n"
                    ]
                }
            ],
            "source": [
                "soup = bs(driver.page_source, 'lxml')\n",
                "a = driver.find_elements(By.CSS_SELECTOR, \"a.map_cluster--mix:not(.is-outside)\")\n",
                "a[0].click()\n",
                "\n",
                "\n",
                "print(306950.957 + 165.09)\n",
                "print(3893323.344 + -438.65)\n",
                "# 438.65m, 165.09m"
            ]
        },
        {
            "cell_type": "code",
            "execution_count": 135,
            "metadata": {},
            "outputs": [
                {
                    "data": {
                        "text/plain": [
                            "'width: 53.651px; height: 53.651px; top: 604.871px; left: 911.095px;'"
                        ]
                    },
                    "execution_count": 135,
                    "metadata": {},
                    "output_type": "execute_result"
                }
            ],
            "source": [
                "a[0].get_attribute(\"style\") # 줌 16일때 100m = 45px"
            ]
        },
        {
            "cell_type": "code",
            "execution_count": 136,
            "metadata": {},
            "outputs": [],
            "source": [
                "top = float(a[0].get_attribute(\"style\").split(\" \")[-3].replace(\"px;\", \"\"))\n",
                "left = float(a[0].get_attribute(\"style\").split(\" \")[-1].replace(\"px;\", \"\"))"
            ]
        },
        {
            "cell_type": "code",
            "execution_count": 137,
            "metadata": {},
            "outputs": [
                {
                    "name": "stdout",
                    "output_type": "stream",
                    "text": [
                        "2.4049999999999727 -74.37099999999998\n"
                    ]
                }
            ],
            "source": [
                "x = my_x - left\n",
                "y = my_y - top\n",
                "print(x, y)"
            ]
        },
        {
            "cell_type": "code",
            "execution_count": 138,
            "metadata": {},
            "outputs": [
                {
                    "name": "stdout",
                    "output_type": "stream",
                    "text": [
                        "47.156862745097506\n",
                        "-1458.254901960784\n",
                        "305492.7020980392 3893370.500862745\n"
                    ]
                }
            ],
            "source": [
                "print(x/0.051)\n",
                "print(y/0.051)\n",
                "\n",
                "q = 306950.957 + (y/0.051)\n",
                "w = 3893323.344 + (x/0.051)\n",
                "print(q, w)\n"
            ]
        },
        {
            "cell_type": "code",
            "execution_count": 125,
            "metadata": {},
            "outputs": [],
            "source": [
                "# soup = bs(driver.page_source, 'lxml')\n",
                "# data = soup.select('div.item')\n",
                "\n",
                "# gn_rst_name_lst = []\n",
                "# gn_rst_address_lst = []\n",
                "# gn_rst_category_lst = []\n",
                "\n",
                "# sc_rst_name_lst = []\n",
                "# sc_rst_address_lst = []\n",
                "# sc_rst_category_lst = []\n",
                "\n",
                "# for i in range(len(data)):\n",
                "#     if data[i].text.find(\"폐업\") == -1:\n",
                "#         if data[i].find(\"div\", class_=\"_address_area_v2kvr_88\").text.find(\"강남\") != -1:\n",
                "#             gn_rst_name_lst.append(data[i].find(\"strong\", class_=\"_main_title_v2kvr_70\").text)\n",
                "#             gn_rst_address_lst.append(data[i].find(\"div\", class_=\"_address_area_v2kvr_88\").text)\n",
                "#             gn_rst_category_lst.append(data[i].find(\"span\", class_=\"_category_title_v2kvr_76\").text)\n",
                " \n",
                "#         if data[i].find(\"div\", class_=\"_address_area_v2kvr_88\").text.find(\"서초\") != -1:\n",
                "#             sc_rst_name_lst.append(data[i].find(\"strong\", class_=\"_main_title_v2kvr_70\").text)\n",
                "#             sc_rst_address_lst.append(data[i].find(\"div\", class_=\"_address_area_v2kvr_88\").text)\n",
                "#             sc_rst_category_lst.append(data[i].find(\"span\", class_=\"_category_title_v2kvr_76\").text)\n",
                "            \n",
                "# print(len(gn_rst_name_lst))\n",
                "# print(len(gn_rst_address_lst))\n",
                "# print(len(gn_rst_category_lst))\n",
                "# print(len(sc_rst_name_lst))\n",
                "# print(len(sc_rst_address_lst))\n",
                "# print(len(sc_rst_category_lst))"
            ]
        },
        {
            "cell_type": "code",
            "execution_count": null,
            "metadata": {},
            "outputs": [],
            "source": []
        },
        {
            "cell_type": "code",
            "execution_count": null,
            "metadata": {},
            "outputs": [],
            "source": []
        },
        {
            "cell_type": "code",
            "execution_count": null,
            "metadata": {},
            "outputs": [],
            "source": []
        },
        {
            "cell_type": "code",
            "execution_count": null,
            "metadata": {},
            "outputs": [],
            "source": []
        }
    ],
    "metadata": {
        "kernelspec": {
            "display_name": "base",
            "language": "python",
            "name": "python3"
        },
        "language_info": {
            "codemirror_mode": {
                "name": "ipython",
                "version": 3
            },
            "file_extension": ".py",
            "mimetype": "text/x-python",
            "name": "python",
            "nbconvert_exporter": "python",
            "pygments_lexer": "ipython3",
            "version": "3.12.7"
        }
    },
    "nbformat": 4,
    "nbformat_minor": 4
}

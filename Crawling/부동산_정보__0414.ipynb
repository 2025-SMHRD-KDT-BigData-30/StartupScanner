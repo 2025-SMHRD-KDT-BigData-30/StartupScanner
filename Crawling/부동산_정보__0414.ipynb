{
    "cells": [
        {
            "cell_type": "code",
            "execution_count": 7,
            "metadata": {},
            "outputs": [],
            "source": [
                "import time\n",
                "import re\n",
                "import pandas as pd\n",
                "from selenium import webdriver\n",
                "from selenium.webdriver.common.by import By\n",
                "from selenium.webdriver.common.keys import Keys\n",
                "from selenium.webdriver.common.action_chains import ActionChains\n",
                "from selenium.webdriver.chrome.service import Service\n",
                "from webdriver_manager.chrome import ChromeDriverManager\n",
                "from pyproj import Proj, Transformer"
            ]
        },
        {
            "cell_type": "code",
            "execution_count": 8,
            "metadata": {},
            "outputs": [],
            "source": [
                "# 동 이름 입력\n",
                "dong = \"금호동\"\n",
                "\n",
                "# 네이버 부동산 URL\n",
                "url = f\"https://new.land.naver.com/offices?ms=35.154807,126.9011,16&a=SG:SMS:GJCG:APTHGJ:GM:TJ&b=B2&e=RETAIL\""
            ]
        },
        {
            "cell_type": "code",
            "execution_count": 9,
            "metadata": {},
            "outputs": [],
            "source": [
                "# Chrome 드라이버 설정\n",
                "s = Service(ChromeDriverManager().install())\n",
                "driver = webdriver.Chrome(service=s)\n",
                "driver.maximize_window()\n",
                "driver.get(url)"
            ]
        },
        {
            "cell_type": "code",
            "execution_count": 10,
            "metadata": {},
            "outputs": [],
            "source": [
                "# 데이터프레임 초기화\n",
                "columns = ['동', '위도', '경도', '상가종류', '월세', '평수', '층수', '건물번호', '제목', '가격']\n",
                "df = pd.DataFrame(columns=columns)"
            ]
        },
        {
            "cell_type": "code",
            "execution_count": 11,
            "metadata": {},
            "outputs": [
                {
                    "name": "stdout",
                    "output_type": "stream",
                    "text": [
                        "총 매물 수: 7\n"
                    ]
                }
            ],
            "source": [
                "# 핀 요소들 찾기\n",
                "pin_elements = driver.find_elements(By.CSS_SELECTOR, \"a.map_cluster--mix:not(.is-outside)\")\n",
                "\n",
                "# 전체 매물 수 계산\n",
                "total_materials = 0\n",
                "for pin in pin_elements:\n",
                "    numbers = re.findall(r'\\d+', pin.text)\n",
                "    if numbers:\n",
                "        total_materials += int(numbers[0])\n",
                "\n",
                "print(f\"총 매물 수: {total_materials}\")"
            ]
        },
        {
            "cell_type": "code",
            "execution_count": 12,
            "metadata": {},
            "outputs": [],
            "source": [
                "# 지도 중심 좌표 계산\n",
                "map_element = driver.find_element(By.CSS_SELECTOR, \"div#map.map_panel\")\n",
                "map_center_x = map_element.size['width'] / 2\n",
                "map_center_y = map_element.size['height'] / 2\n",
                "\n",
                "# URL에서 중심 좌표와 줌 레벨 추출\n",
                "url = driver.current_url\n",
                "center_lat = float(url[url.find(\"ms=\")+3:url.find(\",\")])\n",
                "center_lon = float(url[url.find(\",\")+1:url.find(\",16\")])\n",
                "zoom_level = int(url[url.find(\",16\")+1:url.find(\"&a\")])\n",
                "\n",
                "# UTM 변환기 설정\n",
                "utm_proj = Proj(proj='utm', zone=52, ellps='WGS84')\n",
                "wgs84_proj = Proj(proj='latlong', datum='WGS84')\n",
                "transformer = Transformer.from_proj(wgs84_proj, utm_proj)\n",
                "\n",
                "# 중심 좌표를 UTM으로 변환\n",
                "center_utm_x, center_utm_y = transformer.transform(center_lon, center_lat)\n",
                "\n",
                "# 줌 레벨에 따른 픽셀당 미터 계산\n",
                "# 네이버 지도는 줌 레벨 16일 때 1픽셀 = 약 0.6미터\n",
                "base_meters_per_pixel = 0.6\n",
                "zoom_factor = 2 ** (16 - zoom_level)\n",
                "meters_per_pixel = base_meters_per_pixel * zoom_factor"
            ]
        },
        {
            "cell_type": "code",
            "execution_count": 13,
            "metadata": {},
            "outputs": [],
            "source": [
                "# driver.refresh()"
            ]
        },
        {
            "cell_type": "code",
            "execution_count": 18,
            "metadata": {},
            "outputs": [
                {
                    "ename": "KeyboardInterrupt",
                    "evalue": "",
                    "output_type": "error",
                    "traceback": [
                        "\u001b[1;31m---------------------------------------------------------------------------\u001b[0m",
                        "\u001b[1;31mKeyboardInterrupt\u001b[0m                         Traceback (most recent call last)",
                        "Cell \u001b[1;32mIn[18], line 85\u001b[0m\n\u001b[0;32m     83\u001b[0m     close_btn \u001b[38;5;241m=\u001b[39m driver\u001b[38;5;241m.\u001b[39mfind_element(By\u001b[38;5;241m.\u001b[39mCSS_SELECTOR, \u001b[38;5;124m\"\u001b[39m\u001b[38;5;124mbutton.btn_close[aria-label=\u001b[39m\u001b[38;5;124m'\u001b[39m\u001b[38;5;124m상세페이지 닫기\u001b[39m\u001b[38;5;124m'\u001b[39m\u001b[38;5;124m]\u001b[39m\u001b[38;5;124m\"\u001b[39m)\n\u001b[0;32m     84\u001b[0m     close_btn\u001b[38;5;241m.\u001b[39mclick()\n\u001b[1;32m---> 85\u001b[0m     time\u001b[38;5;241m.\u001b[39msleep(\u001b[38;5;241m1\u001b[39m)\n\u001b[0;32m     87\u001b[0m \u001b[38;5;28;01mexcept\u001b[39;00m \u001b[38;5;167;01mException\u001b[39;00m \u001b[38;5;28;01mas\u001b[39;00m e:\n\u001b[0;32m     88\u001b[0m     \u001b[38;5;28mprint\u001b[39m(\u001b[38;5;124mf\u001b[39m\u001b[38;5;124m\"\u001b[39m\u001b[38;5;124m매물 상세 클릭 에러: \u001b[39m\u001b[38;5;132;01m{\u001b[39;00me\u001b[38;5;132;01m}\u001b[39;00m\u001b[38;5;124m\"\u001b[39m)\n",
                        "\u001b[1;31mKeyboardInterrupt\u001b[0m: "
                    ]
                }
            ],
            "source": [
                "# 핀 클릭 및 데이터 수집\n",
                "for pin in pin_elements:\n",
                "    try:\n",
                "        # 핀 위치 계산\n",
                "        target_x = float(pin.get_attribute(\"style\").split(\" \")[-1].replace(\"px;\", \"\"))\n",
                "        target_y = float(pin.get_attribute(\"style\").split(\" \")[-3].replace(\"px;\", \"\"))\n",
                "        \n",
                "        # 핀의 UTM 좌표 계산\n",
                "        delta_x = (target_x - map_center_x) * meters_per_pixel\n",
                "        delta_y = (map_center_y - target_y) * meters_per_pixel  # y축 방향 반전\n",
                "        \n",
                "        pin_utm_x = center_utm_x + delta_x\n",
                "        pin_utm_y = center_utm_y + delta_y\n",
                "        \n",
                "        # UTM을 위경도로 변환\n",
                "        pin_lon, pin_lat = transformer.transform(pin_utm_x, pin_utm_y, direction='INVERSE')\n",
                "        \n",
                "        # 핀 클릭\n",
                "        pin.click()\n",
                "        time.sleep(2)  # 로딩 시간 증가\n",
                "        \n",
                "        # 매물 목록 로딩\n",
                "        try:\n",
                "            body = driver.find_element(By.CSS_SELECTOR, 'div.item_list.item_list--article')\n",
                "            last_height = driver.execute_script(\"return document.body.scrollHeight\")\n",
                "            \n",
                "            while True:\n",
                "                driver.execute_script(\"arguments[0].scrollTo(0, arguments[0].scrollHeight);\", body)\n",
                "                time.sleep(2)\n",
                "                new_height = driver.execute_script(\"return document.body.scrollHeight\")\n",
                "                if new_height == last_height:\n",
                "                    break\n",
                "                last_height = new_height\n",
                "        except:\n",
                "            pass\n",
                "        \n",
                "        # 매물 목록 가져오기\n",
                "        items = driver.find_elements(By.CSS_SELECTOR, \"div.item\")\n",
                "        \n",
                "        for i in range(len(items)):\n",
                "            try:\n",
                "                # 매물 목록을 다시 가져오기\n",
                "                current_items = driver.find_elements(By.CSS_SELECTOR, \"div.item\")\n",
                "                if i >= len(current_items):\n",
                "                    continue\n",
                "                    \n",
                "                # 매물 상세 정보 클릭\n",
                "                current_items[i].click()\n",
                "                time.sleep(2)\n",
                "                \n",
                "                # 상세 정보 가져오기\n",
                "                try:\n",
                "                    # 상가종류\n",
                "                    shop_type = driver.find_element(By.CSS_SELECTOR, \"h4.info_title\").text\n",
                "                    \n",
                "                    # 모든 테이블 행을 찾기\n",
                "                    rows = driver.find_elements(By.CSS_SELECTOR, \"tr.info_table_item\")\n",
                "                    \n",
                "                    # 기본값 설정\n",
                "                    floor = \"\"\n",
                "                    area = \"\"\n",
                "                    building_no = \"\"\n",
                "                    \n",
                "                    # 각 행에서 정보 추출\n",
                "                    for row in rows:\n",
                "                        try:\n",
                "                            th = row.find_element(By.CSS_SELECTOR, \"th\").text\n",
                "                            td = row.find_element(By.CSS_SELECTOR, \"td\").text\n",
                "                            \n",
                "                            if \"층\" in th:\n",
                "                                floor = td\n",
                "                            elif \"면적\" in th:\n",
                "                                area = td\n",
                "                            elif \"매물번호\" in th:\n",
                "                                building_no = td\n",
                "                        except:\n",
                "                            continue\n",
                "                except Exception as e:\n",
                "                    print(f\"상세 정보 가져오기 에러: {e}\")\n",
                "                    continue\n",
                "                \n",
                "                # 상세 페이지 닫기\n",
                "                close_btn = driver.find_element(By.CSS_SELECTOR, \"button.btn_close[aria-label='상세페이지 닫기']\")\n",
                "                close_btn.click()\n",
                "                time.sleep(1)\n",
                "                \n",
                "            except Exception as e:\n",
                "                print(f\"매물 상세 클릭 에러: {e}\")\n",
                "                continue\n",
                "        \n",
                "        # 핀 다시 클릭하여 닫기\n",
                "        pin.click()\n",
                "        time.sleep(1)\n",
                "        \n",
                "    except Exception as e:\n",
                "        print(f\"핀 클릭 에러: {e}\")\n",
                "        continue"
            ]
        },
        {
            "cell_type": "code",
            "execution_count": 16,
            "metadata": {},
            "outputs": [],
            "source": [
                "# 데이터 저장\n",
                "df.to_csv(f\"./data_0414/{dong}_부동산.csv\", encoding='utf-8-sig', index=False)\n",
                "df[['위도', '경도']].to_csv(f\"./data_0414/{dong}_test.csv\", encoding='utf-8-sig', index=False, header=False)"
            ]
        },
        {
            "cell_type": "code",
            "execution_count": 17,
            "metadata": {},
            "outputs": [
                {
                    "data": {
                        "text/html": [
                            "<div>\n",
                            "<style scoped>\n",
                            "    .dataframe tbody tr th:only-of-type {\n",
                            "        vertical-align: middle;\n",
                            "    }\n",
                            "\n",
                            "    .dataframe tbody tr th {\n",
                            "        vertical-align: top;\n",
                            "    }\n",
                            "\n",
                            "    .dataframe thead th {\n",
                            "        text-align: right;\n",
                            "    }\n",
                            "</style>\n",
                            "<table border=\"1\" class=\"dataframe\">\n",
                            "  <thead>\n",
                            "    <tr style=\"text-align: right;\">\n",
                            "      <th></th>\n",
                            "      <th>동</th>\n",
                            "      <th>위도</th>\n",
                            "      <th>경도</th>\n",
                            "      <th>상가종류</th>\n",
                            "      <th>월세</th>\n",
                            "      <th>평수</th>\n",
                            "      <th>층수</th>\n",
                            "      <th>건물번호</th>\n",
                            "      <th>제목</th>\n",
                            "      <th>가격</th>\n",
                            "    </tr>\n",
                            "  </thead>\n",
                            "  <tbody>\n",
                            "  </tbody>\n",
                            "</table>\n",
                            "</div>"
                        ],
                        "text/plain": [
                            "Empty DataFrame\n",
                            "Columns: [동, 위도, 경도, 상가종류, 월세, 평수, 층수, 건물번호, 제목, 가격]\n",
                            "Index: []"
                        ]
                    },
                    "execution_count": 17,
                    "metadata": {},
                    "output_type": "execute_result"
                }
            ],
            "source": [
                "df"
            ]
        },
        {
            "cell_type": "code",
            "execution_count": null,
            "metadata": {},
            "outputs": [],
            "source": []
        }
    ],
    "metadata": {
        "kernelspec": {
            "display_name": "base",
            "language": "python",
            "name": "python3"
        },
        "language_info": {
            "codemirror_mode": {
                "name": "ipython",
                "version": 3
            },
            "file_extension": ".py",
            "mimetype": "text/x-python",
            "name": "python",
            "nbconvert_exporter": "python",
            "pygments_lexer": "ipython3",
            "version": "3.12.7"
        }
    },
    "nbformat": 4,
    "nbformat_minor": 4
}
